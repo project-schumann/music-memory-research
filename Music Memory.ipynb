{
 "metadata": {
  "name": "",
  "signature": "sha256:78072853e8dfbea56f98d0980112dfb053990fecaafb0aad1a2876c81b771af7"
 },
 "nbformat": 3,
 "nbformat_minor": 0,
 "worksheets": [
  {
   "cells": [
    {
     "cell_type": "heading",
     "level": 1,
     "metadata": {
      "slideshow": {
       "slide_type": "slide"
      }
     },
     "source": [
      "Music Memory File Format Proposal"
     ]
    },
    {
     "cell_type": "heading",
     "level": 2,
     "metadata": {},
     "source": [
      "Introduction"
     ]
    },
    {
     "cell_type": "markdown",
     "metadata": {},
     "source": [
      "The aim of this project is to design a file format which can be used to encode music so that it can be stored in a content addressable memory for various applications such as music prediction. This proposal will begin with a brief overview of the required domain knowlege of music notation followed by definition of the file format and some examples where a midi converter tool prototype will convert midi to the new format and back to midi to illustrate how the encoding works."
     ]
    },
    {
     "cell_type": "heading",
     "level": 2,
     "metadata": {},
     "source": [
      "Overview of Music Notation"
     ]
    },
    {
     "cell_type": "markdown",
     "metadata": {},
     "source": [
      "Music notation is generally comprised of three dimensions: **pitch**, **time** and aural **dynamics**. For the purpose of this study, only pitch and time will be examined and encoded."
     ]
    },
    {
     "cell_type": "heading",
     "level": 3,
     "metadata": {},
     "source": [
      "Pitch"
     ]
    },
    {
     "cell_type": "heading",
     "level": 4,
     "metadata": {},
     "source": [
      "Staves and Clefs"
     ]
    },
    {
     "cell_type": "markdown",
     "metadata": {},
     "source": [
      "In western musical notation, pitch is notated using a five lined chart called a **staff**. **Noteheads** are placed on the lines of the staff, or in the spaces between the lines. Although there are only five lines, more lines can be added above and below the staff as needed to extend the notated range. These lines in particular are called **ledger lines**. The placement of a notehead higher on the staff indicates a higher pitch and the placement of a notehead lower on the staff indicates a lower pitch. At the far left end of a staff, there is a symbol called a **clef**. The clef serves as an identifier of which pitch a particular reference line on the staff refers to. Although there are several different types of clefs, the two most commonly used clefs are the **treble clef** and the **bass clef**. In the case of the treble cleff, the second line from the bottom refers to the note G at 392 hertz, while the second line from the top on the bass clef refers to the note F at 174.61 hertz. Most instruments will only read off of one staff at a time with the exception of most keyboard instruments such as the piano, organ and harpsichord which will read off of two staves simultaneously (one bearing the treble clef, and the other bearing the bass clef). The relationship between the two main clefs is that the note at one ledger line below the treble clef is the same frequency as the note one ledger line above the bass clef. This note is known as **middle C**."
     ]
    },
    {
     "cell_type": "heading",
     "level": 4,
     "metadata": {},
     "source": [
      "Accidentals"
     ]
    },
    {
     "cell_type": "markdown",
     "metadata": {},
     "source": [
      "In western music, the range of notes is divided into an **octave**. If using a keyboard, if one was to play the next 7 white keys starting from middle C, the final note reached would be double the frequency of the first note. Because of this octave relationship, notes which have a frequency that differ by an exponent of 2 are given the same name. To distinguish between the various C's possible, musicians often differentiate them by adding an octave identifier (C1, C2, C3, etc). This relationship of an octave forms the basis of the western note system which is comprised of the following principal note classes: A, B, C, D, E, F, G. The distance (more commonly known as an **interval** between each adjacent note (ex. A to B) is called a whole-tone with the exception of the distance between B to C and E to F which is called a semi-tone. A whole tone can be divided into two which is the equivalent to two successive semi-tones. The way this is notated is by using **accidentals**. An accidental is a symbol which is prepended to a note head which modifies its pitch by a semi-tone. The two main types are called **sharps** and **flats**. A sharp raises the pitch by a semi-tone and a flat lowers the pitch by a semi-tone. Below, we see the notation for all the semitones within an octave:"
     ]
    },
    {
     "cell_type": "code",
     "collapsed": false,
     "input": [
      "from music21 import *\n",
      "from IPython.core.display import Image\n",
      "\n",
      "s = stream.Stream()\n",
      "pitches = ['C4', 'C#4', 'D4', 'D#4', 'E4', 'F4', 'F#4', 'G4', 'G#4', 'A4', 'A#4', 'B4', 'C5']\n",
      "\n",
      "for pitch in pitches:\n",
      "    s.append(note.Note(pitch))\n",
      "\n",
      "Image(filename=s.write('lily.png'))"
     ],
     "language": "python",
     "metadata": {},
     "outputs": [
      {
       "metadata": {},
       "output_type": "pyout",
       "png": "[encoded data removed]",
       "prompt_number": 61,
       "text": [
        "<IPython.core.display.Image at 0x7fa9ed60e7d0>"
       ]
      }
     ],
     "prompt_number": 61
    },
    {
     "cell_type": "markdown",
     "metadata": {},
     "source": [
      "In the example below, we see these concepts combined. The first two staves bear the treble clef, while the next two bear the bass clef. Additionally, we see an example of ledger lines, and accidentals."
     ]
    },
    {
     "cell_type": "code",
     "collapsed": false,
     "input": [
      "sBach = corpus.parse('bach/bwv7.7')\n",
      "\n",
      "overview = sBach.measures(0,3)\n",
      "Image(filename=overview.write('lily.png'))"
     ],
     "language": "python",
     "metadata": {},
     "outputs": [
      {
       "metadata": {},
       "output_type": "pyout",
       "png": "[encoded data removed]",
       "prompt_number": 62,
       "text": [
        "<IPython.core.display.Image at 0x7fa9ed18bd90>"
       ]
      }
     ],
     "prompt_number": 62
    },
    {
     "cell_type": "heading",
     "level": 3,
     "metadata": {},
     "source": [
      "Rhythm"
     ]
    },
    {
     "cell_type": "markdown",
     "metadata": {},
     "source": [
      "**Rhythm** is the dimension which dictates where notes are placed within time. Generally, music will follow a pulse that is at a given number of beats per minute (**BPM**). Each beat usually refers to the largest temporal subdivision. In the example above, the notes with a straight stem which is unlinked is the largest subdivision and would refer to a beat in this example. In the cases where two notes are linked by their stems, two notes are being played in the space of one beat. A beat can be subdivided infinitely and a beat is usually either subdivided into two or three notes at the first subdivision level."
     ]
    },
    {
     "cell_type": "heading",
     "level": 2,
     "metadata": {},
     "source": [
      "File Format Definition"
     ]
    },
    {
     "cell_type": "heading",
     "level": 3,
     "metadata": {},
     "source": [
      "Time"
     ]
    },
    {
     "cell_type": "markdown",
     "metadata": {},
     "source": [
      "The proposed file format consists of a series of arrays which contain an equal number of vectors. The vector at the same position in each array must always be the same length (ie, all vectors at index 3 must be 5 dimensions long). Another way to think of this is a series of matrices. Each one of these matrices represents an instance in time. Because of the fact that a single matrix represents a single instance in time and all instances must be of the same length, one matrix must represent the smallest subdivision of time present in a piece of music. Because in music, a beat can be subdivided infinitely, to keep this format reasonable, a precision value will be selected and all subdivisions shorter than that will be approximated to the smallest acceptable value.\n",
      "\n",
      "Since each matrix is the smallest allowed subdivision, in order to represent notes of a longer length, an encoding is used in each vector to signify one of three possible states.\n",
      "\n",
      "If a note is attacked in this tick, the first dimension of the vector will 1.\n",
      "If a note is held from the previous tick (in order to elongate a note), the first dimension of the vector will be 2.\n",
      "If there is silence in this tick (no attack and no held notes), the first dimension of the vector will be 0.\n",
      "\n",
      "These three states are mutually exclusive and are summarized in the following hash:\n",
      "\n",
      "```javascript\n",
      "{\n",
      "    0: REST,\n",
      "    1: ATTACK,\n",
      "    2: TIE_PREVIOUS\n",
      "}\n",
      "```"
     ]
    },
    {
     "cell_type": "heading",
     "level": 3,
     "metadata": {},
     "source": [
      "Pitch"
     ]
    },
    {
     "cell_type": "markdown",
     "metadata": {},
     "source": [
      "The encoding system used for pitches is all based around a reference. The reference pitch is always the lowest pitch across all voices in the very first tick. This reference pitch is identified as pitch 0. All other pitches are then encoded as the number of semitones a given pitch is displaced from the reference. For example, the distance between C4 and D4 is two semitones, therefore this sequence is encoded as ```[0, 2]``` provided that C4 is the lowest pitch in the first tick of a piece of music. To combine the encoding of time and pitch, the following example shown in both western notation and our format. In this case, our reference note (0) is B3."
     ]
    },
    {
     "cell_type": "code",
     "collapsed": false,
     "input": [
      "sBach = corpus.parse('bach/bwv7.7')\n",
      "upperVoices = stream.Score()\n",
      "\n",
      "upperVoices.append(sBach.parts[0].measures(0,3))\n",
      "upperVoices.append(sBach.parts[1].measures(0,3))\n",
      "\n",
      "Image(filename=upperVoices.write('lily.png'))"
     ],
     "language": "python",
     "metadata": {},
     "outputs": [
      {
       "metadata": {},
       "output_type": "pyout",
       "png": "[encoded data removed]",
       "prompt_number": 63,
       "text": [
        "<IPython.core.display.Image at 0x7fa9ef68ee10>"
       ]
      }
     ],
     "prompt_number": 63
    },
    {
     "cell_type": "markdown",
     "metadata": {},
     "source": [
      "```\n",
      "[<1, 0>, <1, 5>],\n",
      "[<2, 0>, <1, 7>],\n",
      "[<1, 5>, <1, 8>],\n",
      "[<2, 5>, <2, 8>],\n",
      "[<1, 7>, <1, 10>],\n",
      "[<2, 7>, <2, 10>],\n",
      "[<1, 8>, <1, 12>],\n",
      "[<2, 8>, <2, 12>],\n",
      "[<1, 7>, <1, 10>],\n",
      "[<2, 7>, <2, 10>],\n",
      "[<1, 12>, <1, 15>],\n",
      "[<2, 12>, <2, 15>],\n",
      "[<2, 12>, <1, 14>],\n",
      "[<1, 11>, <2, 14>],\n",
      "[<1, 7>, <1, 12>],\n",
      "[<2, 7>, <2, 12>],\n",
      "[<1, 7>, <1, 10>],\n",
      "[<2, 7>, <2, 10>],\n",
      "[<1, 7>, <1, 15>],\n",
      "[<1, 8>, <2, 15>],\n",
      "[<1, 8>, <1, 14>],\n",
      "[<1, 7>, <2, 14>],\n",
      "[<1, 7>, <1, 12>],\n",
      "[<1, 5>, <2, 12>],\n",
      "[<1, 5>, <1, 10>],\n",
      "[<1, 4>, <2, 10>]\n",
      "```"
     ]
    },
    {
     "cell_type": "markdown",
     "metadata": {},
     "source": [
      "The vectors within an array from left to right correspond to the voices from the western notation from bottom to top. A note must be made that since all pitch values are relative to 0, a reference, a metadata vector could be used somewhere in the file to indicate what the reference pitch equates to in absolute terms (ex. C5, midi note identifier or frequency in hertz)."
     ]
    },
    {
     "cell_type": "heading",
     "level": 3,
     "metadata": {},
     "source": [
      "Voicing"
     ]
    },
    {
     "cell_type": "markdown",
     "metadata": {},
     "source": [
      "Because we are limited to having each vector at a given position to have the same number of dimensions, during the encoding process, we must find out the largest chord in each voice (a chord is when multiple notes are played simultaneously). Once this value is determined, we can encode a chord by mapping notes from lowest to highest to dimensions from left to right. Taking the following sequence as an example:"
     ]
    },
    {
     "cell_type": "code",
     "collapsed": false,
     "input": [
      "s = stream.Stream()\n",
      "chords = ['C4 E4 G4', 'A3 C4 F4', 'B4 D4 F4 G4', 'C4 E4 G4']\n",
      "\n",
      "for c in chords:\n",
      "    s.append(chord.Chord(c))\n",
      "\n",
      "Image(filename=s.write('lily.png'))"
     ],
     "language": "python",
     "metadata": {},
     "outputs": [
      {
       "metadata": {},
       "output_type": "pyout",
       "png": "[encoded data removed]",
       "prompt_number": 64,
       "text": [
        "<IPython.core.display.Image at 0x7fa9ed14e550>"
       ]
      }
     ],
     "prompt_number": 64
    },
    {
     "cell_type": "markdown",
     "metadata": {},
     "source": [
      "This sequence is encoded as:\n",
      "```\n",
      "[<0, 4, 7, 999>],\n",
      "[<-3, 0, 5, 999>],\n",
      "[<2, 5, 7, 11>],\n",
      "[<0, 4, 7, 999>]\n",
      "```"
     ]
    },
    {
     "cell_type": "markdown",
     "metadata": {},
     "source": [
      "When a chord has fewer notes than the maximum, a value such as 999 (a large number which is unlikely to be used) will be used as a token to indicate that there is no note present in that position. The more obvious choice would be to use 0 for this indication, however, the value 0 is already used for indicating the reference note of the piece."
     ]
    }
   ],
   "metadata": {}
  }
 ]
}